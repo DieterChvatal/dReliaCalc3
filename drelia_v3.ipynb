{
 "cells": [
  {
   "cell_type": "markdown",
   "metadata": {},
   "source": [
    "## DreliaCalc Report"
   ]
  },
  {
   "cell_type": "code",
   "execution_count": null,
   "metadata": {},
   "outputs": [],
   "source": [
    "#import arrow; print(arrow.now('Europe/Vienna').format('DD.MM.YYYY - HH:mm'))\n",
    "from datetime import datetime; print(datetime.now().strftime('%d.%m.%Y - %H:%M'))"
   ]
  },
  {
   "cell_type": "code",
   "execution_count": null,
   "metadata": {
    "scrolled": false
   },
   "outputs": [],
   "source": [
    "import dmyplant2\n",
    "import pandas as pd\n",
    "import numpy as np\n",
    "from tabulate import tabulate\n",
    "from pprint import pprint as pp"
   ]
  },
  {
   "cell_type": "code",
   "execution_count": null,
   "metadata": {},
   "outputs": [],
   "source": [
    "# load input data from files\n",
    "dval = dmyplant2.Validation.load_def_csv(\"out.csv\")\n",
    "failures = dmyplant2.Validation.load_failures_csv(\"failures.csv\")\n",
    "psize = (12,8)"
   ]
  },
  {
   "cell_type": "markdown",
   "metadata": {},
   "source": [
    "## Validation Engines:"
   ]
  },
  {
   "cell_type": "code",
   "execution_count": null,
   "metadata": {},
   "outputs": [],
   "source": [
    "dmyplant2.cred()\n",
    "mp = dmyplant2.MyPlant(0)"
   ]
  },
  {
   "cell_type": "code",
   "execution_count": null,
   "metadata": {},
   "outputs": [],
   "source": [
    "vl = dmyplant2.Validation.from_dval(mp,dval, cui_log=False) "
   ]
  },
  {
   "cell_type": "code",
   "execution_count": null,
   "metadata": {},
   "outputs": [],
   "source": [
    "mp._token;"
   ]
  },
  {
   "cell_type": "code",
   "execution_count": null,
   "metadata": {},
   "outputs": [],
   "source": [
    "d = vl.dashboard\n",
    "d.T                  "
   ]
  },
  {
   "cell_type": "code",
   "execution_count": null,
   "metadata": {},
   "outputs": [],
   "source": [
    "mp.fetch_available_data();"
   ]
  },
  {
   "cell_type": "code",
   "execution_count": null,
   "metadata": {},
   "outputs": [],
   "source": [
    "vl.quick_report()"
   ]
  },
  {
   "cell_type": "markdown",
   "metadata": {},
   "source": [
    "## Success Run Plot, beta=1.21 & 1.5 with failures "
   ]
  },
  {
   "cell_type": "code",
   "execution_count": null,
   "metadata": {},
   "outputs": [],
   "source": [
    "from tabulate import tabulate\n",
    "print(tabulate(failures, headers=failures.columns))"
   ]
  },
  {
   "cell_type": "code",
   "execution_count": null,
   "metadata": {},
   "outputs": [],
   "source": [
    "dmyplant2.demonstrated_Reliabillity_Plot(vl, \n",
    "            beta=1.21, T=30000, s=1000, ft=failures, cl=[10,50,90], factor=1.3);\n",
    "dmyplant2.demonstrated_Reliabillity_Plot(vl, \n",
    "            beta=1.5, T=30000, s=1000, ft=failures, cl=[10,50,90], factor=1.3);"
   ]
  },
  {
   "cell_type": "code",
   "execution_count": null,
   "metadata": {},
   "outputs": [],
   "source": [
    "dd = d[['Name','oph parts','BMEP', 'LOC','Engine Type','Engine ID']].copy()\n",
    "dd['Name'] = d['Name'] + ' ' + d['Engine Type'] + ' ' + d['Engine ID']\n",
    "dc =  pd.concat([dd, dval[['Old PU first replaced OPH','Old PUs replaced before upgrade']]],axis=1).set_index('Name').sort_values(by = \"oph parts\",ascending=True)\n",
    "dc.plot.barh(y=['oph parts','Old PU first replaced OPH'],figsize=psize, xlim=(0,18000), color=['blue','brown'], grid=True, title=\"PU RCA Running hours vs old PU replacement hours\");"
   ]
  },
  {
   "cell_type": "code",
   "execution_count": null,
   "metadata": {},
   "outputs": [],
   "source": [
    "dc.plot.barh(y=['LOC'],figsize=psize, xlim=(0,0.5), color=['red'], grid=True, title='Lube Oil Consumption, Myplant AVG Calculated Values');"
   ]
  },
  {
   "cell_type": "markdown",
   "metadata": {},
   "source": [
    "## Detailed plot"
   ]
  },
  {
   "cell_type": "code",
   "execution_count": null,
   "metadata": {},
   "outputs": [],
   "source": [
    "# Remove the semicolon on the next line to see all serial numbers\n",
    "d[['Name','Engine Type','Engine ID','serialNumber']].sort_values(by='Name');"
   ]
  },
  {
   "cell_type": "code",
   "execution_count": null,
   "metadata": {
    "scrolled": false
   },
   "outputs": [],
   "source": [
    "\n",
    "#e=dmyplant2.Engine.from_sn(mp,1184199)\n",
    "e=vl.eng_serialNumber(1184199)\n",
    "print(f\"{e}\")\n",
    "e.dash"
   ]
  },
  {
   "cell_type": "code",
   "execution_count": null,
   "metadata": {},
   "outputs": [],
   "source": [
    "dtrips = e.batch_hist_alarms(p_severities=[800], p_offset=0, p_limit=5)\n",
    "dtrips['datetime'] = pd.to_datetime(dtrips['timestamp'] * 1000000.0).dt.strftime(\"%m-%d-%Y %H:%m\")\n",
    "print(tabulate(dtrips[['datetime', 'message', 'name','severity']]))\n"
   ]
  },
  {
   "cell_type": "code",
   "execution_count": null,
   "metadata": {},
   "outputs": [],
   "source": [
    "dtrips = e.batch_hist_alarms(p_severities=[600], p_offset=0, p_limit=10)\n",
    "dtrips['datetime'] = pd.to_datetime(dtrips['timestamp'] * 1000000.0).dt.strftime(\"%m-%d-%Y %H:%m:%S\")\n",
    "print(tabulate(dtrips[['datetime', 'message', 'name','severity']]))"
   ]
  },
  {
   "cell_type": "code",
   "execution_count": null,
   "metadata": {},
   "outputs": [],
   "source": [
    "import arrow\n",
    "data = ['Count_OpHour','Power_PowerAct','Hyd_PressCrankCase','Hyd_PressOilDif']\n",
    "dset = [\n",
    "    {'col':['Power_PowerAct'], 'ylim':(0,5000)},\n",
    "    {'col':['Hyd_PressCrankCase'],'ylim': [-100, 40]},\n",
    "    {'col':['Hyd_PressOilDif'], 'ylim':(0,2)},\n",
    "    {'col':['Oph_parts']}\n",
    "]\n",
    "\n",
    "df0 = e.hist_data(\n",
    "    itemIds= e.get_dataItems(data), \n",
    "    p_from=arrow.get(e.val_start).to('Europe/Vienna'), \n",
    "    #p_from=arrow.get(e['val start']).to('Europe/Vienna'), \n",
    "    p_to=arrow.now('Europe/Vienna'),\n",
    "    timeCycle=600,\n",
    "    forceReload=False\n",
    ")\n",
    "\n",
    "# Set Type of time column to DateTime\n",
    "df0['Oph_parts'] = df0.Count_OpHour - e.oph_start\n"
   ]
  },
  {
   "cell_type": "code",
   "execution_count": null,
   "metadata": {},
   "outputs": [],
   "source": [
    "fig = dmyplant2.dbokeh_chart(\n",
    "    df0, dset, title = e, figsize=psize)\n",
    "dmyplant2.bokeh_show(fig)"
   ]
  },
  {
   "cell_type": "code",
   "execution_count": null,
   "metadata": {},
   "outputs": [],
   "source": [
    "dmyplant2.chart( df0, dset, title = e, figsize=psize);"
   ]
  },
  {
   "cell_type": "code",
   "execution_count": null,
   "metadata": {},
   "outputs": [],
   "source": [
    "# Lube Oil Consuption data\n",
    "dloc = e.Validation_period_LOC()\n",
    "\n",
    "dmyplant2.chart(dloc, [\n",
    "    {'col': ['OilConsumption','LOC'],'ylim': (0,0.5)},\n",
    "    {'col': ['Pow'],'ylim': (0,8000)},\n",
    "],\n",
    "title = e,\n",
    "figsize = psize);"
   ]
  },
  {
   "cell_type": "code",
   "execution_count": null,
   "metadata": {},
   "outputs": [],
   "source": [
    "%%time\n",
    "# exit for the moment, because code does make sense for now.\n",
    "import sys\n",
    "sys.exit(0)\n",
    "\n",
    "dat = {\n",
    "    161: ['CountOph','h'], \n",
    "    102: ['PowerAct','kW'],\n",
    "    107: ['Various_Values_SpeedAct','rpm'],\n",
    "    217: ['Hyd_PressCrankCase','mbar'],\n",
    "    16546: ['Hyd_PressOilDif','bar']\n",
    "}\n",
    "\n",
    "dset2 = [\n",
    "    {'col': ['PowerAct'],'ylim': [0, 5000]},\n",
    "    {'col': ['Various_Values_SpeedAct'],'ylim': [0, 2500], 'color':'darkblue'},\n",
    "    {'col': ['CountOph'],'ylim': [0, 500]},\n",
    "    {'col': ['Hyd_PressCrankCase'],'ylim': [-80, 60]},\n",
    "    {'col': ['Hyd_PressOilDif'],'ylim': [0, 2]}\n",
    "]\n",
    "\n",
    "df2 = e.hist_data(\n",
    "    itemIds=dat, \n",
    "    #p_from=arrow.get('2021-03-05 05:28').to('Europe/Vienna'),\n",
    "    p_from=arrow.get(e.valstart_ts),\n",
    "    #p_to=arrow.get('2021-03-05 05:30').to('Europe/Vienna'),\n",
    "    p_to=arrow.now(),\n",
    "    timeCycle=60)\n",
    "\n",
    "\n",
    "# Set Type of time column to DateTime\n",
    "df2['CountOph'] = df2.CountOph - e.oph_start\n",
    "print(f\"Number of Data points: {df2['datetime'].count()}\")"
   ]
  },
  {
   "cell_type": "code",
   "execution_count": null,
   "metadata": {},
   "outputs": [],
   "source": [
    "# exit for the moment, because code does make sense for now.\n",
    "import sys\n",
    "#sys.exit(0)\n",
    "\n",
    "dmyplant2.chart(df2, dset2, x = 'datetime', title = e, grid = True, figsize = (18,10));"
   ]
  },
  {
   "cell_type": "code",
   "execution_count": null,
   "metadata": {},
   "outputs": [],
   "source": [
    "%%time\n",
    "#lindex = df2['time'].values.searchsorted(1618856220030)\n",
    "%timeit df2['CountOph'].iloc[df2['time'].values.searchsorted(1600000000000)]"
   ]
  }
 ],
 "metadata": {
  "interpreter": {
   "hash": "7b827b5f1f2836ddadb8fbc7a8e8e99004f7285a204f4c797dc2931fe1207e23"
  },
  "kernelspec": {
   "display_name": "Python 3.8.5 64-bit",
   "language": "python",
   "name": "python3"
  },
  "language_info": {
   "codemirror_mode": {
    "name": "ipython",
    "version": 3
   },
   "file_extension": ".py",
   "mimetype": "text/x-python",
   "name": "python",
   "nbconvert_exporter": "python",
   "pygments_lexer": "ipython3",
   "version": "3.9.7"
  }
 },
 "nbformat": 4,
 "nbformat_minor": 4
}
