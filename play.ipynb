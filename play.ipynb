{
 "cells": [
  {
   "cell_type": "code",
   "execution_count": 5,
   "metadata": {
    "scrolled": false
   },
   "outputs": [],
   "source": [
    "from dmyplant2 import MyPlant, cred, Engine\n",
    "cred()\n",
    "mp = MyPlant(3600)"
   ]
  },
  {
   "cell_type": "code",
   "execution_count": 7,
   "metadata": {},
   "outputs": [],
   "source": [
    "#mp._fetch_installed_base();"
   ]
  },
  {
   "cell_type": "code",
   "execution_count": 9,
   "metadata": {},
   "outputs": [
    {
     "name": "stdout",
     "output_type": "stream",
     "text": [
      "{'BMEP': 24.5,\n",
      " 'Count_OpHour': 17729.0,\n",
      " 'Design Number': 'U781',\n",
      " 'Engine ID': 'M4',\n",
      " 'Engine Type': '624',\n",
      " 'Engine Version': 'H01',\n",
      " 'LOC': 0.049,\n",
      " 'Name': 'BMW Landshut 4.10',\n",
      " 'P': 24,\n",
      " 'P_nom': 4587.2,\n",
      " 'id': 117617,\n",
      " 'oph parts': 17729,\n",
      " 'oph@start': 0,\n",
      " 'serialNumber': '1320072',\n",
      " 'val start': '09.01.2019'}\n"
     ]
    }
   ],
   "source": [
    "from pprint import pprint as pp\n",
    "e = Engine.from_sn(1320072, mp)\n",
    "pp(e.dash)"
   ]
  },
  {
   "cell_type": "code",
   "execution_count": 4,
   "metadata": {},
   "outputs": [
    {
     "data": {
      "text/plain": [
       "{'Count_OpHour': 17729.0,\n",
       " 'OperationalCondition': 'Tripped',\n",
       " 'shutdown_counter': 1031.0,\n",
       " 'startup_counter': 1026.0,\n",
       " 'id': 117617,\n",
       " 'Engine Version': 'H01',\n",
       " 'Engine Type': '624',\n",
       " 'Engine Series': '6',\n",
       " 'Country': 'DE',\n",
       " 'Commissioning Date': '2019-01-09',\n",
       " 'Design Number': 'U781',\n",
       " 'serialNumber': '1320072',\n",
       " 'Power_PowerNominal': 4500.0,\n",
       " 'Para_Speed_Nominal': 1500.0,\n",
       " 'starts_oph_ratio': 0.08,\n",
       " 'Control System Type': 'XT4',\n",
       " 'Engine ID': 'M4',\n",
       " 'IB Unit Commissioning Date': '2019-01-09',\n",
       " 'IB NOX': '500',\n",
       " 'IB Frequency': '50',\n",
       " 'IB Item Description Engine': 'ENG JMS 624 H01 50__J_U781',\n",
       " 'IB Site Name': 'BMW Landshut 4.10',\n",
       " 'IB Status': 'Active Docu incomplete',\n",
       " 'Contract.Warranty End Date': nan,\n",
       " 'Contract.Warranty Start Date': nan,\n",
       " 'Module_Vers_HalIO': '4.4.0.5.6'}"
      ]
     },
     "execution_count": 4,
     "metadata": {},
     "output_type": "execute_result"
    }
   ],
   "source": [
    "f = mp.get_installed_fleet()\n",
    "eng_raw = f[f['serialNumber'] == str(1320072)]\n",
    "eng_raw.to_dict(orient='records')[0]"
   ]
  }
 ],
 "metadata": {
  "interpreter": {
   "hash": "7b827b5f1f2836ddadb8fbc7a8e8e99004f7285a204f4c797dc2931fe1207e23"
  },
  "kernelspec": {
   "display_name": "Python 3.8.5 64-bit",
   "language": "python",
   "name": "python3"
  },
  "language_info": {
   "codemirror_mode": {
    "name": "ipython",
    "version": 3
   },
   "file_extension": ".py",
   "mimetype": "text/x-python",
   "name": "python",
   "nbconvert_exporter": "python",
   "pygments_lexer": "ipython3",
   "version": "3.9.7"
  }
 },
 "nbformat": 4,
 "nbformat_minor": 4
}
